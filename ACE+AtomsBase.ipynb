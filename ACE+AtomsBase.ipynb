{
 "cells": [
  {
   "cell_type": "markdown",
   "metadata": {},
   "source": [
    "# ACEpotentials.jl + AtomsBase.jl Tutorial"
   ]
  },
  {
   "cell_type": "markdown",
   "metadata": {},
   "source": [
    "## Introduction\n",
    "\n",
    "This tutorial demonstrates how the ACEpotentials.jl package\n",
    "interoperates with the AtomsBase.jl ecosystem."
   ]
  },
  {
   "cell_type": "markdown",
   "metadata": {},
   "source": [
    "## Installation\n",
    "\n",
    "add and load general packages used in this notebook."
   ]
  },
  {
   "cell_type": "code",
   "execution_count": 1,
   "metadata": {},
   "outputs": [
    {
     "name": "stderr",
     "output_type": "stream",
     "text": [
      "\u001b[32m\u001b[1m    Updating\u001b[22m\u001b[39m registry at `~/.julia/registries/ACE`\n",
      "\u001b[32m\u001b[1m    Updating\u001b[22m\u001b[39m git-repo `https://github.com/ACEsuit/ACEregistry`\n",
      "\u001b[32m\u001b[1m    Updating\u001b[22m\u001b[39m registry at `~/.julia/registries/General.toml`\n",
      "\u001b[32m\u001b[1m   Resolving\u001b[22m\u001b[39m package versions...\n",
      "\u001b[32m\u001b[1m   Installed\u001b[22m\u001b[39m GR_jll ───────────── v0.73.16+0\n",
      "\u001b[32m\u001b[1m   Installed\u001b[22m\u001b[39m Qt6ShaderTools_jll ─ v6.8.2+1\n",
      "\u001b[32m\u001b[1m   Installed\u001b[22m\u001b[39m ThreadingUtilities ─ v0.5.4\n",
      "\u001b[32m\u001b[1m   Installed\u001b[22m\u001b[39m OpenSSL ──────────── v1.5.0\n",
      "\u001b[32m\u001b[1m   Installed\u001b[22m\u001b[39m ColorVectorSpace ─── v0.10.0\n",
      "\u001b[32m\u001b[1m   Installed\u001b[22m\u001b[39m OrderedCollections ─ v1.8.1\n",
      "\u001b[32m\u001b[1m   Installed\u001b[22m\u001b[39m TimerOutputs ─────── v0.5.29\n",
      "\u001b[32m\u001b[1m   Installed\u001b[22m\u001b[39m Qt6Declarative_jll ─ v6.8.2+1\n",
      "\u001b[32m\u001b[1m   Installed\u001b[22m\u001b[39m Qt6Wayland_jll ───── v6.8.2+0\n",
      "\u001b[32m\u001b[1m   Installed\u001b[22m\u001b[39m Qt6Base_jll ──────── v6.8.2+1\n",
      "\u001b[32m\u001b[1m   Installed\u001b[22m\u001b[39m GR ───────────────── v0.73.16\n",
      "\u001b[32m\u001b[1m    Updating\u001b[22m\u001b[39m `~/ACEpotentials_v0_8/Project.toml`\n",
      "\u001b[33m⌅\u001b[39m \u001b[90m[a963bdd2] \u001b[39m\u001b[92m+ AtomsBase v0.4.2\u001b[39m\n",
      "\u001b[32m⌃\u001b[39m \u001b[90m[f5cc8831] \u001b[39m\u001b[92m+ AtomsBuilder v0.2.1\u001b[39m\n",
      "\u001b[32m⌃\u001b[39m \u001b[90m[9855a07e] \u001b[39m\u001b[92m+ AtomsCalculatorsUtilities v0.1.5\u001b[39m\n",
      "\u001b[32m⌃\u001b[39m \u001b[90m[aa0f7f06] \u001b[39m\u001b[92m+ Molly v0.21.2\u001b[39m\n",
      "  \u001b[90m[37e2e46d] \u001b[39m\u001b[92m+ LinearAlgebra v1.11.0\u001b[39m\n",
      "\u001b[32m\u001b[1m    Updating\u001b[22m\u001b[39m `~/ACEpotentials_v0_8/Manifest.toml`\n",
      "  \u001b[90m[ec485272] \u001b[39m\u001b[92m+ ArnoldiMethod v0.4.0\u001b[39m\n",
      "\u001b[33m⌅\u001b[39m \u001b[90m[a9b6321e] \u001b[39m\u001b[95m↓ Atomix v1.1.1 ⇒ v0.1.0\u001b[39m\n",
      "  \u001b[90m[ab4f0b2a] \u001b[39m\u001b[92m+ BFloat16s v0.5.1\u001b[39m\n",
      "  \u001b[90m[47718e42] \u001b[39m\u001b[92m+ BioGenerics v0.1.5\u001b[39m\n",
      "  \u001b[90m[de9282ab] \u001b[39m\u001b[92m+ BioStructures v4.5.0\u001b[39m\n",
      "  \u001b[90m[3c28c6f8] \u001b[39m\u001b[92m+ BioSymbols v5.2.0\u001b[39m\n",
      "\u001b[32m⌃\u001b[39m \u001b[90m[052768ef] \u001b[39m\u001b[92m+ CUDA v5.4.3\u001b[39m\n",
      "  \u001b[90m[1af6417a] \u001b[39m\u001b[92m+ CUDA_Runtime_Discovery v0.3.5\u001b[39m\n",
      "  \u001b[90m[69e1c6dd] \u001b[39m\u001b[92m+ CellListMap v0.9.9\u001b[39m\n",
      "\u001b[32m⌃\u001b[39m \u001b[90m[46823bd8] \u001b[39m\u001b[92m+ Chemfiles v0.10.40\u001b[39m\n",
      "\u001b[33m⌅\u001b[39m \u001b[90m[3da002f7] \u001b[39m\u001b[95m↓ ColorTypes v0.12.1 ⇒ v0.11.5\u001b[39m\n",
      "\u001b[32m⌃\u001b[39m \u001b[90m[c3611d14] \u001b[39m\u001b[95m↓ ColorVectorSpace v0.11.0 ⇒ v0.10.0\u001b[39m\n",
      "\u001b[32m⌃\u001b[39m \u001b[90m[5ae59095] \u001b[39m\u001b[95m↓ Colors v0.13.0 ⇒ v0.12.11\u001b[39m\n",
      "  \u001b[90m[6add18c4] \u001b[39m\u001b[92m+ ContextVariablesX v0.1.3\u001b[39m\n",
      "  \u001b[90m[a0c0ee7d] \u001b[39m\u001b[91m- DifferentiationInterface v0.6.52\u001b[39m\n",
      "  \u001b[90m[b4f34e82] \u001b[39m\u001b[92m+ Distances v0.10.12\u001b[39m\n",
      "  \u001b[90m[4e289a0a] \u001b[39m\u001b[91m- EnumX v1.0.5\u001b[39m\n",
      "\u001b[33m⌅\u001b[39m \u001b[90m[7da242da] \u001b[39m\u001b[92m+ Enzyme v0.12.36\u001b[39m\n",
      "\u001b[33m⌅\u001b[39m \u001b[90m[f151be2c] \u001b[39m\u001b[92m+ EnzymeCore v0.7.8\u001b[39m\n",
      "  \u001b[90m[8f5d6c58] \u001b[39m\u001b[92m+ EzXML v1.2.1\u001b[39m\n",
      "  \u001b[90m[cc61a311] \u001b[39m\u001b[92m+ FLoops v0.2.2\u001b[39m\n",
      "  \u001b[90m[b9860ae5] \u001b[39m\u001b[92m+ FLoopsBase v0.1.1\u001b[39m\n",
      "\u001b[33m⌅\u001b[39m \u001b[90m[61eb1bfa] \u001b[39m\u001b[92m+ GPUCompiler v0.26.7\u001b[39m\n",
      "  \u001b[90m[28b8d3ca] \u001b[39m\u001b[93m↑ GR v0.73.14 ⇒ v0.73.16\u001b[39m\n",
      "  \u001b[90m[86223c79] \u001b[39m\u001b[92m+ Graphs v1.12.1\u001b[39m\n",
      "  \u001b[90m[0e44f5e4] \u001b[39m\u001b[92m+ Hwloc v3.3.0\u001b[39m\n",
      "  \u001b[90m[d25df0c9] \u001b[39m\u001b[92m+ Inflate v0.1.5\u001b[39m\n",
      "  \u001b[90m[b14d175d] \u001b[39m\u001b[92m+ JuliaVariables v0.2.4\u001b[39m\n",
      "  \u001b[90m[5ab0869b] \u001b[39m\u001b[92m+ KernelDensity v0.6.9\u001b[39m\n",
      "\u001b[33m⌅\u001b[39m \u001b[90m[929cbde3] \u001b[39m\u001b[95m↓ LLVM v9.4.0 ⇒ v8.1.0\u001b[39m\n",
      "  \u001b[90m[8b046642] \u001b[39m\u001b[92m+ LLVMLoopInfo v1.0.0\u001b[39m\n",
      "\u001b[33m⌅\u001b[39m \u001b[90m[30fc2ffe] \u001b[39m\u001b[92m+ LossFunctions v0.11.2\u001b[39m\n",
      "\u001b[33m⌅\u001b[39m \u001b[90m[b2108857] \u001b[39m\u001b[93m↑ Lux v0.5.39 ⇒ v0.5.68\u001b[39m\n",
      "\u001b[33m⌅\u001b[39m \u001b[90m[bb33d45b] \u001b[39m\u001b[93m↑ LuxCore v0.1.23 ⇒ v0.1.25\u001b[39m\n",
      "\u001b[33m⌅\u001b[39m \u001b[90m[82251201] \u001b[39m\u001b[93m↑ LuxLib v0.3.14 ⇒ v0.3.51\u001b[39m\n",
      "\u001b[32m⌃\u001b[39m \u001b[90m[7e8f7934] \u001b[39m\u001b[92m+ MLDataDevices v1.5.3\u001b[39m\n",
      "  \u001b[90m[d8e11817] \u001b[39m\u001b[92m+ MLStyle v0.4.17\u001b[39m\n",
      "\u001b[32m⌃\u001b[39m \u001b[90m[aa0f7f06] \u001b[39m\u001b[92m+ Molly v0.21.2\u001b[39m\n",
      "\u001b[32m⌃\u001b[39m \u001b[90m[d41bc354] \u001b[39m\u001b[95m↓ NLSolversBase v7.9.1 ⇒ v7.8.3\u001b[39m\n",
      "\u001b[33m⌅\u001b[39m \u001b[90m[5da4648a] \u001b[39m\u001b[92m+ NVTX v0.3.5\u001b[39m\n",
      "  \u001b[90m[71a1bf82] \u001b[39m\u001b[92m+ NameResolution v0.1.5\u001b[39m\n",
      "  \u001b[90m[b8a86587] \u001b[39m\u001b[92m+ NearestNeighbors v0.4.21\u001b[39m\n",
      "  \u001b[90m[d8793406] \u001b[39m\u001b[92m+ ObjectFile v0.4.4\u001b[39m\n",
      "  \u001b[90m[4d8831e6] \u001b[39m\u001b[93m↑ OpenSSL v1.4.3 ⇒ v1.5.0\u001b[39m\n",
      "\u001b[32m⌃\u001b[39m \u001b[90m[429524aa] \u001b[39m\u001b[95m↓ Optim v1.12.0 ⇒ v1.11.0\u001b[39m\n",
      "  \u001b[90m[bac558e1] \u001b[39m\u001b[93m↑ OrderedCollections v1.8.0 ⇒ v1.8.1\u001b[39m\n",
      "  \u001b[90m[f517fe37] \u001b[39m\u001b[92m+ Polyester v0.7.17\u001b[39m\n",
      "  \u001b[90m[8162dcfd] \u001b[39m\u001b[92m+ PrettyPrint v0.2.0\u001b[39m\n",
      "  \u001b[90m[74087812] \u001b[39m\u001b[92m+ Random123 v1.7.1\u001b[39m\n",
      "  \u001b[90m[e6cf234a] \u001b[39m\u001b[92m+ RandomNumbers v1.6.0\u001b[39m\n",
      "\u001b[33m⌅\u001b[39m \u001b[90m[64031d72] \u001b[39m\u001b[92m+ SimpleCrystals v0.3.3\u001b[39m\n",
      "  \u001b[90m[699a6c99] \u001b[39m\u001b[92m+ SimpleTraits v0.9.4\u001b[39m\n",
      "  \u001b[90m[53d494c1] \u001b[39m\u001b[92m+ StructIO v0.3.1\u001b[39m\n",
      "  \u001b[90m[1c621080] \u001b[39m\u001b[92m+ TestItems v1.0.0\u001b[39m\n",
      "  \u001b[90m[8290d209] \u001b[39m\u001b[93m↑ ThreadingUtilities v0.5.3 ⇒ v0.5.4\u001b[39m\n",
      "  \u001b[90m[a759f4b9] \u001b[39m\u001b[93m↑ TimerOutputs v0.5.28 ⇒ v0.5.29\u001b[39m\n",
      "  \u001b[90m[f31437dd] \u001b[39m\u001b[92m+ UnitfulChainRules v0.1.2\u001b[39m\n",
      "\u001b[33m⌅\u001b[39m \u001b[90m[013be700] \u001b[39m\u001b[95m↓ UnsafeAtomics v0.3.0 ⇒ v0.2.1\u001b[39m\n",
      "  \u001b[90m[d80eeb9a] \u001b[39m\u001b[92m+ UnsafeAtomicsLLVM v0.2.2\u001b[39m\n",
      "  \u001b[90m[d49dbf32] \u001b[39m\u001b[93m↑ WeightInitializers v0.1.10 ⇒ v1.1.1\u001b[39m\n",
      "\u001b[33m⌅\u001b[39m \u001b[90m[4ee394cb] \u001b[39m\u001b[92m+ CUDA_Driver_jll v0.9.2+0\u001b[39m\n",
      "\u001b[33m⌅\u001b[39m \u001b[90m[76a88914] \u001b[39m\u001b[92m+ CUDA_Runtime_jll v0.14.1+0\u001b[39m\n",
      "  \u001b[90m[78a364fa] \u001b[39m\u001b[92m+ Chemfiles_jll v0.10.4+0\u001b[39m\n",
      "\u001b[33m⌅\u001b[39m \u001b[90m[7cc45869] \u001b[39m\u001b[92m+ Enzyme_jll v0.0.148+0\u001b[39m\n",
      "  \u001b[90m[d2c73de3] \u001b[39m\u001b[93m↑ GR_jll v0.73.14+0 ⇒ v0.73.16+0\u001b[39m\n",
      "  \u001b[90m[e33a78d0] \u001b[39m\u001b[92m+ Hwloc_jll v2.12.1+0\u001b[39m\n",
      "  \u001b[90m[9c1d0b0a] \u001b[39m\u001b[92m+ JuliaNVTXCallbacks_jll v0.2.1+0\u001b[39m\n",
      "\u001b[33m⌅\u001b[39m \u001b[90m[dad2f222] \u001b[39m\u001b[95m↓ LLVMExtra_jll v0.0.36+0 ⇒ v0.0.31+0\u001b[39m\n",
      "  \u001b[90m[e98f9f5b] \u001b[39m\u001b[92m+ NVTX_jll v3.1.1+0\u001b[39m\n",
      "  \u001b[90m[c0090381] \u001b[39m\u001b[93m↑ Qt6Base_jll v6.7.1+1 ⇒ v6.8.2+1\u001b[39m\n",
      "  \u001b[90m[629bc702] \u001b[39m\u001b[93m↑ Qt6Declarative_jll v6.7.1+2 ⇒ v6.8.2+1\u001b[39m\n",
      "  \u001b[90m[ce943373] \u001b[39m\u001b[93m↑ Qt6ShaderTools_jll v6.7.1+1 ⇒ v6.8.2+1\u001b[39m\n",
      "  \u001b[90m[e99dba38] \u001b[39m\u001b[93m↑ Qt6Wayland_jll v6.7.1+1 ⇒ v6.8.2+0\u001b[39m\n",
      "\u001b[36m\u001b[1m        Info\u001b[22m\u001b[39m Packages marked with \u001b[32m⌃\u001b[39m and \u001b[33m⌅\u001b[39m have new versions available. Those with \u001b[32m⌃\u001b[39m may be upgradable, but those with \u001b[33m⌅\u001b[39m are restricted by compatibility constraints from upgrading. To see why use `status --outdated -m`\n",
      "\u001b[92m\u001b[1mPrecompiling\u001b[22m\u001b[39m project...\n",
      "   1271.9 ms\u001b[32m  ✓ \u001b[39m\u001b[90mOrderedCollections\u001b[39m\n",
      "   1171.8 ms\u001b[32m  ✓ \u001b[39m\u001b[90mThreadingUtilities\u001b[39m\n",
      "    657.7 ms\u001b[32m  ✓ \u001b[39m\u001b[90mParameters\u001b[39m\n",
      "    918.5 ms\u001b[32m  ✓ \u001b[39m\u001b[90mPolyesterWeave\u001b[39m\n",
      "   1218.9 ms\u001b[32m  ✓ \u001b[39m\u001b[90mTables\u001b[39m\n",
      "   1887.5 ms\u001b[32m  ✓ \u001b[39m\u001b[90mStrideArraysCore\u001b[39m\n",
      "   3151.9 ms\u001b[32m  ✓ \u001b[39m\u001b[90mOpenSSL\u001b[39m\n",
      "   2572.0 ms\u001b[32m  ✓ \u001b[39m\u001b[90mQt6Base_jll\u001b[39m\n",
      "   3563.9 ms\u001b[32m  ✓ \u001b[39m\u001b[90mColorVectorSpace\u001b[39m\n",
      "   1615.7 ms\u001b[32m  ✓ \u001b[39m\u001b[90mBangBang → BangBangTablesExt\u001b[39m\n",
      "   4009.2 ms\u001b[32m  ✓ \u001b[39m\u001b[90mTimerOutputs\u001b[39m\n",
      "   2926.7 ms\u001b[32m  ✓ \u001b[39m\u001b[90mDataStructures\u001b[39m\n",
      "   1500.0 ms\u001b[32m  ✓ \u001b[39m\u001b[90mBumper\u001b[39m\n",
      "   2318.7 ms\u001b[32m  ✓ \u001b[39m\u001b[90mStructArrays\u001b[39m\n",
      "   1519.6 ms\u001b[32m  ✓ \u001b[39m\u001b[90mPolyester\u001b[39m\n",
      "   1093.6 ms\u001b[32m  ✓ \u001b[39m\u001b[90mColorVectorSpace → SpecialFunctionsExt\u001b[39m\n",
      "   1390.4 ms\u001b[32m  ✓ \u001b[39m\u001b[90mQt6ShaderTools_jll\u001b[39m\n",
      "   3759.6 ms\u001b[32m  ✓ \u001b[39m\u001b[90mLineSearches\u001b[39m\n",
      "   1160.6 ms\u001b[32m  ✓ \u001b[39m\u001b[90mSortingAlgorithms\u001b[39m\n",
      "   2694.3 ms\u001b[32m  ✓ \u001b[39m\u001b[90mGR_jll\u001b[39m\n",
      "   1747.9 ms\u001b[32m  ✓ \u001b[39m\u001b[90mQuadGK\u001b[39m\n",
      "   1036.9 ms\u001b[32m  ✓ \u001b[39m\u001b[90mWithAlloc\u001b[39m\n",
      "   5542.2 ms\u001b[32m  ✓ \u001b[39m\u001b[90mLatexify\u001b[39m\n",
      "   2730.4 ms\u001b[32m  ✓ \u001b[39m\u001b[90mLinearOperators\u001b[39m\n",
      "    892.8 ms\u001b[32m  ✓ \u001b[39m\u001b[90mStructArrays → StructArraysAdaptExt\u001b[39m\n",
      "   1469.2 ms\u001b[32m  ✓ \u001b[39m\u001b[90mStructArrays → StructArraysStaticArraysExt\u001b[39m\n",
      "    819.3 ms\u001b[32m  ✓ \u001b[39m\u001b[90mStructArrays → StructArraysGPUArraysCoreExt\u001b[39m\n",
      "    930.8 ms\u001b[32m  ✓ \u001b[39m\u001b[90mStructArrays → StructArraysSparseArraysExt\u001b[39m\n",
      "   1130.7 ms\u001b[32m  ✓ \u001b[39m\u001b[90mWignerD\u001b[39m\n",
      "    975.5 ms\u001b[32m  ✓ \u001b[39m\u001b[90mAccessors → StructArraysExt\u001b[39m\n",
      "    939.5 ms\u001b[32m  ✓ \u001b[39m\u001b[90mBangBang → BangBangStructArraysExt\u001b[39m\n",
      "   4031.5 ms\u001b[32m  ✓ \u001b[39m\u001b[90mTransducers\u001b[39m\n",
      "   1323.2 ms\u001b[32m  ✓ \u001b[39m\u001b[90mLatexify → SparseArraysExt\u001b[39m\n",
      "   1209.6 ms\u001b[32m  ✓ \u001b[39m\u001b[90mLinearOperators → LinearOperatorsChainRulesCoreExt\u001b[39m\n",
      "   4592.5 ms\u001b[32m  ✓ \u001b[39m\u001b[90mMultivariatePolynomials\u001b[39m\n",
      "   5544.2 ms\u001b[32m  ✓ \u001b[39m\u001b[90mColorSchemes\u001b[39m\n"
     ]
    },
    {
     "name": "stderr",
     "output_type": "stream",
     "text": [
      "   1497.0 ms\u001b[32m  ✓ \u001b[39m\u001b[90mTransducers → TransducersReferenceablesExt\u001b[39m\n",
      "   2838.7 ms\u001b[32m  ✓ \u001b[39m\u001b[90mUnitfulLatexify\u001b[39m\n",
      "   1163.8 ms\u001b[32m  ✓ \u001b[39m\u001b[90mTransducers → TransducersAdaptExt\u001b[39m\n",
      "   3367.5 ms\u001b[32m  ✓ \u001b[39m\u001b[90mStatsBase\u001b[39m\n",
      "   4267.7 ms\u001b[32m  ✓ \u001b[39m\u001b[90mQt6Declarative_jll\u001b[39m\n",
      "   2215.8 ms\u001b[32m  ✓ \u001b[39m\u001b[90mStaticPolynomials\u001b[39m\n",
      "   6746.2 ms\u001b[32m  ✓ \u001b[39m\u001b[90mGraphs\u001b[39m\n",
      "   2475.3 ms\u001b[32m  ✓ \u001b[39m\u001b[90mDynamicPolynomials\u001b[39m\n",
      "    779.1 ms\u001b[32m  ✓ \u001b[39m\u001b[90mQt6Wayland_jll\u001b[39m\n",
      "   8467.3 ms\u001b[32m  ✓ \u001b[39m\u001b[90mGPUCompiler\u001b[39m\n",
      "   5623.0 ms\u001b[32m  ✓ \u001b[39m\u001b[90mFLoops\u001b[39m\n",
      "   4857.9 ms\u001b[32m  ✓ \u001b[39m\u001b[90mFolds\u001b[39m\n",
      "   4471.3 ms\u001b[32m  ✓ \u001b[39m\u001b[90mOptim\u001b[39m\n",
      "   7859.8 ms\u001b[32m  ✓ \u001b[39m\u001b[90mChainRules\u001b[39m\n",
      "    880.9 ms\u001b[32m  ✓ \u001b[39m\u001b[90mArrayInterface → ArrayInterfaceChainRulesExt\u001b[39m\n",
      "    988.6 ms\u001b[32m  ✓ \u001b[39m\u001b[90mMLDataDevices → MLDataDevicesChainRulesExt\u001b[39m\n",
      "   6041.8 ms\u001b[32m  ✓ \u001b[39m\u001b[90mDistributions\u001b[39m\n",
      "   1277.0 ms\u001b[32m  ✓ \u001b[39m\u001b[90mDistributions → DistributionsChainRulesCoreExt\u001b[39m\n",
      "   1429.0 ms\u001b[32m  ✓ \u001b[39m\u001b[90mDistributions → DistributionsTestExt\u001b[39m\n",
      "   1975.1 ms\u001b[32m  ✓ \u001b[39mMultivariateStats\n",
      "  19308.0 ms\u001b[32m  ✓ \u001b[39m\u001b[90mCellListMap\u001b[39m\n",
      "   2466.0 ms\u001b[32m  ✓ \u001b[39m\u001b[90mKernelDensity\u001b[39m\n",
      "  12945.6 ms\u001b[32m  ✓ \u001b[39m\u001b[90mPlotUtils\u001b[39m\n",
      "   5649.7 ms\u001b[32m  ✓ \u001b[39m\u001b[90mPlotThemes\u001b[39m\n",
      "  25006.1 ms\u001b[32m  ✓ \u001b[39m\u001b[90mHTTP\u001b[39m\n",
      "   7741.9 ms\u001b[32m  ✓ \u001b[39m\u001b[90mRecipesPipeline\u001b[39m\n",
      "  28489.1 ms\u001b[32m  ✓ \u001b[39mPrettyTables\n",
      "   5236.4 ms\u001b[32m  ✓ \u001b[39m\u001b[90mGR\u001b[39m\n",
      "  36273.8 ms\u001b[32m  ✓ \u001b[39m\u001b[90mLoopVectorization\u001b[39m\n",
      "   1085.9 ms\u001b[32m  ✓ \u001b[39m\u001b[90mLoopVectorization → SpecialFunctionsExt\u001b[39m\n",
      "   1275.2 ms\u001b[32m  ✓ \u001b[39m\u001b[90mLoopVectorization → ForwardDiffExt\u001b[39m\n",
      "   2210.2 ms\u001b[32m  ✓ \u001b[39m\u001b[90mOctavian\u001b[39m\n",
      "   1536.5 ms\u001b[32m  ✓ \u001b[39m\u001b[90mOctavian → HyperDualNumbersExt\u001b[39m\n",
      "   1656.0 ms\u001b[32m  ✓ \u001b[39m\u001b[90mOctavian → ForwardDiffExt\u001b[39m\n",
      "   7361.4 ms\u001b[32m  ✓ \u001b[39m\u001b[90mLuxLib\u001b[39m\n",
      "  12981.1 ms\u001b[32m  ✓ \u001b[39m\u001b[90mVectorizedStatistics\u001b[39m\n",
      "   1975.0 ms\u001b[32m  ✓ \u001b[39m\u001b[90mStrideArrays\u001b[39m\n",
      "   6486.8 ms\u001b[32m  ✓ \u001b[39m\u001b[90mLuxLib → LuxLibReverseDiffExt\u001b[39m\n",
      "   3230.0 ms\u001b[32m  ✓ \u001b[39m\u001b[90mSpheriCart\u001b[39m\n",
      "  44160.2 ms\u001b[32m  ✓ \u001b[39m\u001b[90mZygote\u001b[39m\n",
      "   6558.1 ms\u001b[32m  ✓ \u001b[39mAtomsCalculatorsUtilities\n",
      "   2100.9 ms\u001b[32m  ✓ \u001b[39m\u001b[90mLuxDeviceUtils → LuxDeviceUtilsZygoteExt\u001b[39m\n",
      "   2175.4 ms\u001b[32m  ✓ \u001b[39m\u001b[90mMLDataDevices → MLDataDevicesZygoteExt\u001b[39m\n",
      "   2328.6 ms\u001b[32m  ✓ \u001b[39m\u001b[90mZygote → ZygoteColorsExt\u001b[39m\n",
      "   5598.4 ms\u001b[32m  ✓ \u001b[39m\u001b[90mPolynomials4ML\u001b[39m\n",
      "   3019.5 ms\u001b[32m  ✓ \u001b[39m\u001b[90mZygote → ZygoteDistancesExt\u001b[39m\n",
      "  13295.1 ms\u001b[32m  ✓ \u001b[39m\u001b[90mLux\u001b[39m\n",
      "   3885.9 ms\u001b[32m  ✓ \u001b[39m\u001b[90mEmpiricalPotentials\u001b[39m\n",
      "   2883.1 ms\u001b[32m  ✓ \u001b[39m\u001b[90mLux → LuxZygoteExt\u001b[39m\n",
      "   4315.5 ms\u001b[32m  ✓ \u001b[39m\u001b[90mLux → LuxReverseDiffExt\u001b[39m\n",
      "   2842.0 ms\u001b[32m  ✓ \u001b[39m\u001b[90mEquivariantModels\u001b[39m\n",
      "  50553.5 ms\u001b[32m  ✓ \u001b[39m\u001b[90mDataFrames\u001b[39m\n",
      "   1812.2 ms\u001b[32m  ✓ \u001b[39m\u001b[90mLatexify → DataFramesExt\u001b[39m\n",
      "   1783.3 ms\u001b[32m  ✓ \u001b[39m\u001b[90mTransducers → TransducersDataFramesExt\u001b[39m\n",
      "   1924.3 ms\u001b[32m  ✓ \u001b[39m\u001b[90mBioStructures → BioStructuresDataFramesExt\u001b[39m\n",
      "   2243.8 ms\u001b[32m  ✓ \u001b[39m\u001b[90mActiveSetPursuit\u001b[39m\n",
      "   2304.0 ms\u001b[32m  ✓ \u001b[39m\u001b[90mBangBang → BangBangDataFramesExt\u001b[39m\n",
      "   2421.1 ms\u001b[32m  ✓ \u001b[39m\u001b[90mACEfit\u001b[39m\n",
      "  11035.3 ms\u001b[32m  ✓ \u001b[39mACEpotentials\n",
      "  74300.4 ms\u001b[32m  ✓ \u001b[39mPlots\n",
      "   3636.0 ms\u001b[32m  ✓ \u001b[39mPlots → IJuliaExt\n",
      "   3703.8 ms\u001b[32m  ✓ \u001b[39mPlots → UnitfulExt\n",
      "  48319.3 ms\u001b[32m  ✓ \u001b[39m\u001b[90mCUDA\u001b[39m\n",
      "   5729.3 ms\u001b[32m  ✓ \u001b[39m\u001b[90mLinearOperators → LinearOperatorsCUDAExt\u001b[39m\n",
      "   5855.6 ms\u001b[32m  ✓ \u001b[39m\u001b[90mArrayInterface → ArrayInterfaceCUDAExt\u001b[39m\n",
      "   5981.9 ms\u001b[32m  ✓ \u001b[39m\u001b[90mMLDataDevices → MLDataDevicesCUDAExt\u001b[39m\n",
      "   6051.5 ms\u001b[32m  ✓ \u001b[39m\u001b[90mCUDA → EnzymeCoreExt\u001b[39m\n",
      "   6077.7 ms\u001b[32m  ✓ \u001b[39m\u001b[90mCUDA → SpecialFunctionsExt\u001b[39m\n",
      "   6087.0 ms\u001b[32m  ✓ \u001b[39m\u001b[90mLuxDeviceUtils → LuxDeviceUtilsCUDAExt\u001b[39m\n",
      "   6111.9 ms\u001b[32m  ✓ \u001b[39m\u001b[90mCUDA → ChainRulesCoreExt\u001b[39m\n",
      "   6133.2 ms\u001b[32m  ✓ \u001b[39m\u001b[90mWeightInitializers → WeightInitializersCUDAExt\u001b[39m\n",
      "   6597.2 ms\u001b[32m  ✓ \u001b[39m\u001b[90mNNlib → NNlibCUDAExt\u001b[39m\n",
      "   6996.6 ms\u001b[32m  ✓ \u001b[39m\u001b[90mLuxLib → LuxLibCUDAExt\u001b[39m\n",
      " 169284.1 ms\u001b[32m  ✓ \u001b[39m\u001b[90mEnzyme\u001b[39m\n",
      "   2533.4 ms\u001b[32m  ✓ \u001b[39m\u001b[90mEnzyme → EnzymeBFloat16sExt\u001b[39m\n",
      "   2592.0 ms\u001b[32m  ✓ \u001b[39m\u001b[90mQuadGK → QuadGKEnzymeExt\u001b[39m\n",
      "   2663.6 ms\u001b[32m  ✓ \u001b[39m\u001b[90mEnzyme → EnzymeChainRulesCoreExt\u001b[39m\n",
      "   2660.1 ms\u001b[32m  ✓ \u001b[39m\u001b[90mEnzyme → EnzymeLogExpFunctionsExt\u001b[39m\n",
      "   2764.0 ms\u001b[32m  ✓ \u001b[39m\u001b[90mEnzyme → EnzymeSpecialFunctionsExt\u001b[39m\n",
      "   2816.7 ms\u001b[32m  ✓ \u001b[39m\u001b[90mEnzyme → EnzymeStaticArraysExt\u001b[39m\n",
      "   3568.8 ms\u001b[32m  ✓ \u001b[39m\u001b[90mLux → LuxEnzymeExt\u001b[39m\n",
      "  20168.7 ms\u001b[32m  ✓ \u001b[39mMolly\n",
      "  118 dependencies successfully precompiled in 209 seconds. 435 already precompiled.\n",
      "  \u001b[33m1\u001b[39m dependency had output during precompilation:\u001b[33m\n",
      "┌ \u001b[39mEquivariantModels\u001b[33m\n",
      "│  \u001b[39mWARNING: could not import Polynomials4ML._outsym into EquivariantModels\u001b[33m\n",
      "└  \u001b[39m\n",
      "\u001b[32m\u001b[1m     Cloning\u001b[22m\u001b[39m registry from \"https://github.com/ACEsuit/ACEregistry\"\n",
      "Registry `ACE` already exists in `~/.julia/registries/ACE`.\n",
      "\u001b[32m\u001b[1m   Resolving\u001b[22m\u001b[39m package versions...\n",
      "\u001b[32m\u001b[1m   Installed\u001b[22m\u001b[39m Dierckx_jll ── v0.2.0+0\n",
      "\u001b[32m\u001b[1m   Installed\u001b[22m\u001b[39m Dierckx ────── v0.5.4\n",
      "\u001b[32m\u001b[1m   Installed\u001b[22m\u001b[39m SaddleSearch ─ v0.0.2\n",
      "\u001b[32m\u001b[1m   Installed\u001b[22m\u001b[39m GeomOpt ────── v0.1.0\n",
      "\u001b[32m\u001b[1m    Updating\u001b[22m\u001b[39m `~/ACEpotentials_v0_8/Project.toml`\n",
      "  \u001b[90m[ca147568] \u001b[39m\u001b[92m+ GeomOpt v0.1.0\u001b[39m\n",
      "\u001b[32m\u001b[1m    Updating\u001b[22m\u001b[39m `~/ACEpotentials_v0_8/Manifest.toml`\n",
      "  \u001b[90m[39dd38d3] \u001b[39m\u001b[92m+ Dierckx v0.5.4\u001b[39m\n",
      "  \u001b[90m[ca147568] \u001b[39m\u001b[92m+ GeomOpt v0.1.0\u001b[39m\n",
      "  \u001b[90m[75381b30] \u001b[39m\u001b[92m+ SaddleSearch v0.0.2\u001b[39m\n",
      "  \u001b[90m[cd4c43a9] \u001b[39m\u001b[92m+ Dierckx_jll v0.2.0+0\u001b[39m\n",
      "\u001b[92m\u001b[1mPrecompiling\u001b[22m\u001b[39m project...\n",
      "    410.7 ms\u001b[32m  ✓ \u001b[39m\u001b[90mDierckx_jll\u001b[39m\n",
      "    480.3 ms\u001b[32m  ✓ \u001b[39m\u001b[90mDierckx\u001b[39m\n",
      "   1719.9 ms\u001b[32m  ✓ \u001b[39m\u001b[90mSaddleSearch\u001b[39m\n",
      "   1806.2 ms\u001b[32m  ✓ \u001b[39mGeomOpt\n",
      "  4 dependencies successfully precompiled in 5 seconds. 553 already precompiled.\n"
     ]
    }
   ],
   "source": [
    "using Pkg\n",
    "# Uncomment the next line if installing Julia for the first time\n",
    "# Pkg.Registry.add(\"General\")\n",
    "# Pkg.Registry.add\n",
    "Pkg.add([\"ExtXYZ\", \"Unitful\", \"Distributed\", \"AtomsCalculators\",\n",
    "         \"Molly\", \"AtomsCalculatorsUtilities\", \"AtomsBuilder\",\n",
    "         \"AtomsBase\", \"LinearAlgebra\",\n",
    "         ])\n",
    "\n",
    "# ACEpotentials installation:\n",
    "# If ACEpotentials has not been installed yet, uncomment the following lines\n",
    "# Add the ACE registry, which stores the ACEpotential package information\n",
    "Pkg.Registry.add(RegistrySpec(url=\"https://github.com/ACEsuit/ACEregistry\"))\n",
    "Pkg.add([\"GeomOpt\", ])\n",
    "# Pkg.add([\"ACEpotentials\",])"
   ]
  },
  {
   "cell_type": "markdown",
   "metadata": {},
   "source": [
    "  We can check the status of the installed packages."
   ]
  },
  {
   "cell_type": "code",
   "execution_count": 2,
   "metadata": {},
   "outputs": [
    {
     "name": "stderr",
     "output_type": "stream",
     "text": [
      "\u001b[32m\u001b[1m  Activating\u001b[22m\u001b[39m project at `~/ACEpotentials_v0_8`\n"
     ]
    },
    {
     "name": "stdout",
     "output_type": "stream",
     "text": [
      "\u001b[32m\u001b[1mStatus\u001b[22m\u001b[39m `~/ACEpotentials_v0_8/Project.toml`\n",
      "  \u001b[90m[3b96b61c] \u001b[39mACEpotentials v0.8.6\n",
      "\u001b[33m⌅\u001b[39m \u001b[90m[a963bdd2] \u001b[39mAtomsBase v0.4.2\n",
      "\u001b[32m⌃\u001b[39m \u001b[90m[f5cc8831] \u001b[39mAtomsBuilder v0.2.1\n",
      "  \u001b[90m[a3e0e189] \u001b[39mAtomsCalculators v0.2.3\n",
      "\u001b[32m⌃\u001b[39m \u001b[90m[9855a07e] \u001b[39mAtomsCalculatorsUtilities v0.1.5\n",
      "\u001b[32m⌃\u001b[39m \u001b[90m[352459e4] \u001b[39mExtXYZ v0.2.1\n",
      "  \u001b[90m[ca147568] \u001b[39mGeomOpt v0.1.0\n",
      "  \u001b[90m[7073ff75] \u001b[39mIJulia v1.27.0\n",
      "  \u001b[90m[b964fa9f] \u001b[39mLaTeXStrings v1.4.0\n",
      "  \u001b[90m[98b081ad] \u001b[39mLiterate v2.20.1\n",
      "\u001b[32m⌃\u001b[39m \u001b[90m[aa0f7f06] \u001b[39mMolly v0.21.2\n",
      "  \u001b[90m[6f286f6a] \u001b[39mMultivariateStats v0.10.3\n",
      "  \u001b[90m[91a5bcdd] \u001b[39mPlots v1.40.13\n",
      "  \u001b[90m[08abe8d2] \u001b[39mPrettyTables v2.4.0\n",
      "  \u001b[90m[fd094767] \u001b[39mSuppressor v0.2.8\n",
      "  \u001b[90m[1986cc42] \u001b[39mUnitful v1.22.1\n",
      "  \u001b[90m[8ba89e20] \u001b[39mDistributed v1.11.0\n",
      "  \u001b[90m[37e2e46d] \u001b[39mLinearAlgebra v1.11.0\n",
      "\u001b[36m\u001b[1mInfo\u001b[22m\u001b[39m Packages marked with \u001b[32m⌃\u001b[39m and \u001b[33m⌅\u001b[39m have new versions available. Those with \u001b[32m⌃\u001b[39m may be upgradable, but those with \u001b[33m⌅\u001b[39m are restricted by compatibility constraints from upgrading. To see why use `status --outdated`\n"
     ]
    }
   ],
   "source": [
    "using Pkg; Pkg.activate(\".\")\n",
    "Pkg.status()"
   ]
  },
  {
   "cell_type": "markdown",
   "metadata": {},
   "source": [
    "  Import all the packages that we will be using, create some processes\n",
    "  for parallel model fitting"
   ]
  },
  {
   "cell_type": "code",
   "execution_count": 1,
   "metadata": {},
   "outputs": [],
   "source": [
    "using ExtXYZ, Unitful, AtomsCalculators, Distributed, ACEpotentials,\n",
    "      AtomsCalculatorsUtilities\n",
    "using AtomsCalculatorsUtilities.SitePotentials: cutoff_radius\n",
    "addprocs(10, exeflags=\"--project=$(Base.active_project())\")\n",
    "@everywhere using ACEpotentials"
   ]
  },
  {
   "cell_type": "markdown",
   "metadata": {},
   "source": [
    "## Fit a potential for Cu\n",
    "\n",
    "The tutorial can be adapted trivially to use datasets for Ni, Cu, Li, Mo, Si, Ge.\n",
    "\n",
    "We generate a smallish model (about 300 basis functions) for Cu, using\n",
    "correlation-order 3 (body-order 4), and default for rcut. Then we estimate\n",
    "the model parameters using the standard BLR solver."
   ]
  },
  {
   "cell_type": "code",
   "execution_count": null,
   "metadata": {},
   "outputs": [],
   "source": [
    "@which acefit!(train, model;  solver=solver)\n",
    "# Finding the smoothness prior construction\n",
    "# @which ACEpotentials._make_prior(model, 4, nothing)\n",
    "# @which ACEpotentials.Models.algebraic_smoothness_prior(model.model; p = 4)\n",
    "# # ^^ makes smoothness prior in function just above - \"P\" is the regulariser, gamma (a\n",
    "# diagonal matrix)\n"
   ]
  },
  {
   "cell_type": "code",
   "execution_count": 2,
   "metadata": {},
   "outputs": [
    {
     "name": "stdout",
     "output_type": "stream",
     "text": [
      "length_basis(model) = 319\n",
      "cutoff_radius(model) = 6.5 Å\n",
      "┌─────────┬──────────┬───────┬─────┬───────┬──────┐\n",
      "│\u001b[1m    Type \u001b[0m│\u001b[1m #Configs \u001b[0m│\u001b[1m #Envs \u001b[0m│\u001b[1m  #E \u001b[0m│\u001b[1m    #F \u001b[0m│\u001b[1m   #V \u001b[0m│\n",
      "├─────────┼──────────┼───────┼─────┼───────┼──────┤\n",
      "│     nil │      262 │ 27416 │ 262 │ 82248 │    0 │\n",
      "├─────────┼──────────┼───────┼─────┼───────┼──────┤\n",
      "│   total │      262 │ 27416 │ 262 │ 82248 │    0 │\n",
      "│ missing │        0 │     0 │   0 │     0 │ 1572 │\n",
      "└─────────┴──────────┴───────┴─────┴───────┴──────┘\n"
     ]
    },
    {
     "name": "stderr",
     "output_type": "stream",
     "text": [
      "\u001b[36m\u001b[1m[ \u001b[22m\u001b[39m\u001b[36m\u001b[1mInfo: \u001b[22m\u001b[39mAssembling linear problem.\n",
      "\u001b[36m\u001b[1m[ \u001b[22m\u001b[39m\u001b[36m\u001b[1mInfo: \u001b[22m\u001b[39m  - Creating feature matrix with size (82510, 319).\n",
      "\u001b[36m\u001b[1m[ \u001b[22m\u001b[39m\u001b[36m\u001b[1mInfo: \u001b[22m\u001b[39m  - Beginning assembly with processor count:  11.\n",
      "\u001b[32mProgress: 100%|█████████████████████████████████████████| Time: 0:01:42\u001b[39m\n",
      "\u001b[36m\u001b[1m[ \u001b[22m\u001b[39m\u001b[36m\u001b[1mInfo: \u001b[22m\u001b[39m  - Assembly completed.\n",
      "\u001b[36m\u001b[1m[ \u001b[22m\u001b[39m\u001b[36m\u001b[1mInfo: \u001b[22m\u001b[39mAssembling full weight vector.\n",
      "\u001b[32mProgress: 100%|█████████████████████████████████████████| Time: 0:00:08\u001b[39m\n",
      "\u001b[36m\u001b[1m[ \u001b[22m\u001b[39m\u001b[36m\u001b[1mInfo: \u001b[22m\u001b[39mEntering bayesian_linear_regression_svd\n",
      "\u001b[36m\u001b[1m┌ \u001b[22m\u001b[39m\u001b[36m\u001b[1mInfo: \u001b[22m\u001b[39mComputing SVD of (82510, 319) matrix\n",
      "\u001b[36m\u001b[1m│ \u001b[22m\u001b[39m  BLAS.get_num_threads() = 7\n",
      "\u001b[36m\u001b[1m│ \u001b[22m\u001b[39m  BLAS.get_config() =\n",
      "\u001b[36m\u001b[1m│ \u001b[22m\u001b[39m   LinearAlgebra.BLAS.LBTConfig\n",
      "\u001b[36m\u001b[1m│ \u001b[22m\u001b[39m   Libraries: \n",
      "\u001b[36m\u001b[1m└ \u001b[22m\u001b[39m   └ [ILP64] libopenblas64_.so\n",
      "\u001b[36m\u001b[1m[ \u001b[22m\u001b[39m\u001b[36m\u001b[1mInfo: \u001b[22m\u001b[39mSVD completed after 0.03126132981666667 minutes\n",
      "\u001b[36m\u001b[1m[ \u001b[22m\u001b[39m\u001b[36m\u001b[1mInfo: \u001b[22m\u001b[39mBeginning to maximize marginal likelihood\n"
     ]
    },
    {
     "name": "stdout",
     "output_type": "stream",
     "text": [
      "Iter     Function value   Gradient norm \n",
      "     0     7.612258e+04     8.231737e+04\n",
      " * time: 0.032427072525024414\n",
      "     1     1.658610e+04     1.693985e+05\n",
      " * time: 1.0040159225463867\n",
      "     2    -2.020275e+05     2.126882e+06\n",
      " * time: 1.0045549869537354\n",
      "     3    -2.319633e+05     1.246268e+06\n",
      " * time: 1.0053200721740723\n",
      "     4    -2.329936e+05     9.076053e+05\n",
      " * time: 1.0057649612426758\n",
      "     5    -2.333663e+05     4.700206e+04\n",
      " * time: 1.0061039924621582\n",
      "     6    -2.333677e+05     1.073410e+04\n",
      " * time: 1.006500005722046\n",
      "     7    -2.334444e+05     3.500871e+05\n",
      " * time: 1.0071709156036377\n",
      "     8    -2.369560e+05     1.911014e+06\n",
      " * time: 1.0076749324798584\n",
      "     9    -2.388221e+05     7.352762e+05\n",
      " * time: 1.008194923400879\n",
      "    10    -2.397617e+05     2.722812e+05\n",
      " * time: 1.0085749626159668\n",
      "    11    -2.418037e+05     8.928362e+05\n",
      " * time: 1.0090749263763428\n",
      "    12    -2.421421e+05     4.636605e+04\n",
      " * time: 1.009671926498413\n",
      "    13    -2.423753e+05     3.685487e+05\n",
      " * time: 1.010209083557129\n",
      "    14    -2.424610e+05     8.810392e+04\n",
      " * time: 1.0106220245361328\n",
      "    15    -2.425008e+05     1.203689e+05\n",
      " * time: 1.0111479759216309\n",
      "    16    -2.425159e+05     4.733132e+04\n",
      " * time: 1.011549949645996\n",
      "    17    -2.425197e+05     2.185461e+04\n",
      " * time: 1.0119259357452393\n",
      "    18    -2.425201e+05     3.485401e+03\n",
      " * time: 1.012373924255371\n",
      "    19    -2.425201e+05     2.328420e+02\n",
      " * time: 1.0127289295196533\n",
      "    20    -2.425201e+05     1.977301e+00\n",
      " * time: 1.013159990310669\n",
      "    21    -2.425201e+05     9.076293e-04\n",
      " * time: 1.0134661197662354\n",
      "    22    -2.425201e+05     3.723320e-09\n",
      " * time: 1.0137720108032227\n",
      "    23    -2.425201e+05     1.489328e-09\n",
      " * time: 1.0140550136566162\n"
     ]
    },
    {
     "name": "stderr",
     "output_type": "stream",
     "text": [
      "\u001b[36m\u001b[1m┌ \u001b[22m\u001b[39m\u001b[36m\u001b[1mInfo: \u001b[22m\u001b[39mOptimization complete\n",
      "\u001b[36m\u001b[1m│ \u001b[22m\u001b[39m  Results =\n",
      "\u001b[36m\u001b[1m│ \u001b[22m\u001b[39m    * Status: success\n",
      "\u001b[36m\u001b[1m│ \u001b[22m\u001b[39m   \n",
      "\u001b[36m\u001b[1m│ \u001b[22m\u001b[39m    * Candidate solution\n",
      "\u001b[36m\u001b[1m│ \u001b[22m\u001b[39m       Final objective value:     -2.425201e+05\n",
      "\u001b[36m\u001b[1m│ \u001b[22m\u001b[39m   \n",
      "\u001b[36m\u001b[1m│ \u001b[22m\u001b[39m    * Found with\n",
      "\u001b[36m\u001b[1m│ \u001b[22m\u001b[39m       Algorithm:     L-BFGS\n",
      "\u001b[36m\u001b[1m│ \u001b[22m\u001b[39m   \n",
      "\u001b[36m\u001b[1m│ \u001b[22m\u001b[39m    * Convergence measures\n",
      "\u001b[36m\u001b[1m│ \u001b[22m\u001b[39m       |x - x'|               = 3.13e-13 ≤ 1.0e-08\n",
      "\u001b[36m\u001b[1m│ \u001b[22m\u001b[39m       |x - x'|/|x'|          = 6.55e-15 ≰ 0.0e+00\n",
      "\u001b[36m\u001b[1m│ \u001b[22m\u001b[39m       |f(x) - f(x')|         = 0.00e+00 ≤ 0.0e+00\n",
      "\u001b[36m\u001b[1m│ \u001b[22m\u001b[39m       |f(x) - f(x')|/|f(x')| = 0.00e+00 ≤ 0.0e+00\n",
      "\u001b[36m\u001b[1m│ \u001b[22m\u001b[39m       |g(x)|                 = 1.49e-09 ≰ 0.0e+00\n",
      "\u001b[36m\u001b[1m│ \u001b[22m\u001b[39m   \n",
      "\u001b[36m\u001b[1m│ \u001b[22m\u001b[39m    * Work counters\n",
      "\u001b[36m\u001b[1m│ \u001b[22m\u001b[39m       Seconds run:   1  (vs limit Inf)\n",
      "\u001b[36m\u001b[1m│ \u001b[22m\u001b[39m       Iterations:    23\n",
      "\u001b[36m\u001b[1m│ \u001b[22m\u001b[39m       f(x) calls:    113\n",
      "\u001b[36m\u001b[1m│ \u001b[22m\u001b[39m       ∇f(x) calls:   113\n",
      "\u001b[36m\u001b[1m└ \u001b[22m\u001b[39m   \n",
      "\u001b[36m\u001b[1m[ \u001b[22m\u001b[39m\u001b[36m\u001b[1mInfo: \u001b[22m\u001b[39mRMSE Table\n"
     ]
    },
    {
     "name": "stdout",
     "output_type": "stream",
     "text": [
      "┌──────┬─────────┬──────────┬─────────┐\n",
      "│\u001b[1m Type \u001b[0m│\u001b[1m E [meV] \u001b[0m│\u001b[1m F [eV/A] \u001b[0m│\u001b[1m V [meV] \u001b[0m│\n",
      "├──────┼─────────┼──────────┼─────────┤\n",
      "│  nil │   0.502 │    0.014 │   0.000 │\n",
      "├──────┼─────────┼──────────┼─────────┤\n",
      "│  set │   0.502 │    0.014 │   0.000 │\n",
      "└──────┴─────────┴──────────┴─────────┘\n",
      "┌──────┬─────────┬──────────┬─────────┐\n",
      "│\u001b[1m Type \u001b[0m│\u001b[1m E [meV] \u001b[0m│\u001b[1m F [eV/A] \u001b[0m│\u001b[1m V [meV] \u001b[0m│\n",
      "├──────┼─────────┼──────────┼─────────┤\n",
      "│  nil │   0.291 │    0.007 │   0.000 │\n",
      "├──────┼─────────┼──────────┼─────────┤\n",
      "│  set │   0.291 │    0.007 │   0.000 │\n",
      "└──────┴─────────┴──────────┴─────────┘\n"
     ]
    },
    {
     "name": "stderr",
     "output_type": "stream",
     "text": [
      "\u001b[36m\u001b[1m[ \u001b[22m\u001b[39m\u001b[36m\u001b[1mInfo: \u001b[22m\u001b[39mMAE Table\n"
     ]
    }
   ],
   "source": [
    "# generate a model for Cu\n",
    "sym = :Cu\n",
    "model = ace1_model(elements = [sym,], order = 3, totaldegree = [ 20, 16, 12 ])\n",
    "@show length_basis(model)\n",
    "@show cutoff_radius(model)\n",
    "# estimate parameters\n",
    "train, test, _ = ACEpotentials.example_dataset(\"Zuo20_$sym\")\n",
    "solver = ACEfit.BLR(; factorization = :svd)\n",
    "acefit!(train, model;  solver=solver); GC.gc()\n",
    "# quickly check test errors => 0.5 meV/atom and 0.014 eV/A are ok\n",
    "ACEpotentials.compute_errors(test, model);"
   ]
  },
  {
   "cell_type": "markdown",
   "metadata": {},
   "source": [
    "## Geometry Optimization with GeomOpt\n",
    "\n",
    "( Note: we should use GeometryOptimization.jl, but this is not yet updated to\n",
    "  AtomsBase.jl version 0.4. )\n",
    "\n",
    "First import some stuff + a little hack to make GeomOpt play nice with\n",
    "the latest AtomsBase. This is a shortcoming of DecoratedParticles.jl\n",
    "and requires some updates to fully implement the AtomsBase interface."
   ]
  },
  {
   "cell_type": "code",
   "execution_count": 5,
   "metadata": {},
   "outputs": [],
   "source": [
    "using AtomsBuilder, GeomOpt, AtomsCalculators, AtomsBase\n",
    "using AtomsBase: FlexibleSystem, FastSystem\n",
    "using AtomsCalculators: potential_energy\n",
    "function _flexiblesystem(sys)\n",
    "   c3ll = cell(sys)\n",
    "   particles = [ AtomsBase.Atom(species(sys, i), position(sys, i))\n",
    "                 for i = 1:length(sys) ]\n",
    "   return FlexibleSystem(particles, c3ll)\n",
    "end;"
   ]
  },
  {
   "cell_type": "markdown",
   "metadata": {},
   "source": [
    "We generate a cubic Cu unit cell, but our potential might not have the same\n",
    "equilibrium bond distance as the default in AtomsBuilder, so we optimize\n",
    "the unit cell."
   ]
  },
  {
   "cell_type": "code",
   "execution_count": null,
   "metadata": {},
   "outputs": [],
   "source": [
    "ucell = bulk(sym, cubic=true)\n",
    "ucell, _ = GeomOpt.minimise(ucell, model; variablecell=true)"
   ]
  },
  {
   "cell_type": "markdown",
   "metadata": {},
   "source": [
    "We keep the energy of the equilibrated unit cell to later compute the\n",
    "defect formation energy."
   ]
  },
  {
   "cell_type": "code",
   "execution_count": null,
   "metadata": {},
   "outputs": [],
   "source": [
    "Eperat = potential_energy(ucell, model) / length(ucell)\n",
    "@show Eperat;"
   ]
  },
  {
   "cell_type": "markdown",
   "metadata": {},
   "source": [
    "Now that we have an equilibrated unit cell we enlarge it, and then delete\n",
    "an atom to generate a vacancy defect."
   ]
  },
  {
   "cell_type": "code",
   "execution_count": null,
   "metadata": {},
   "outputs": [],
   "source": [
    "sys = _flexiblesystem(ucell) * (2,2,2)\n",
    "deleteat!(sys, 1)\n",
    "sys"
   ]
  },
  {
   "cell_type": "markdown",
   "metadata": {},
   "source": [
    "Now we do another geometry optimization to get the equilibrium geometry."
   ]
  },
  {
   "cell_type": "code",
   "execution_count": null,
   "metadata": {},
   "outputs": [],
   "source": [
    "vacancy_equil, result = GeomOpt.minimise(sys, model; variablecell = false)\n",
    "@show result.g_residual;"
   ]
  },
  {
   "cell_type": "markdown",
   "metadata": {},
   "source": [
    "We get an estimate of the formation energy. Note this is likely a poor\n",
    "estimate since we didn't train the model on vacancy configurations."
   ]
  },
  {
   "cell_type": "code",
   "execution_count": null,
   "metadata": {},
   "outputs": [],
   "source": [
    "E_def = potential_energy(vacancy_equil, model) - length(sys) * Eperat\n",
    "@show E_def;"
   ]
  },
  {
   "cell_type": "markdown",
   "metadata": {},
   "source": [
    "One of the most useful Julia packages is ForwardDiff. This is used in\n",
    "AtomsCalculatorsUtilities to implement hessians. ACEpotentials.jl only\n",
    "has to ensure that its site energies allow Dual numbers as inputs."
   ]
  },
  {
   "cell_type": "code",
   "execution_count": null,
   "metadata": {},
   "outputs": [],
   "source": [
    "using AtomsCalculatorsUtilities.SitePotentials: hessian\n",
    "using LinearAlgebra: Symmetric, eigvals\n",
    "\n",
    "H = ustrip.( hessian(vacancy_equil, model) )\n",
    "Λ = eigvals(Symmetric(H))\n",
    "S_vib = sum(λ -> λ > 1e-10 ? log(λ) : 0, Λ)"
   ]
  },
  {
   "cell_type": "markdown",
   "metadata": {},
   "source": [
    "## Molecular Dynamics with Molly"
   ]
  },
  {
   "cell_type": "code",
   "execution_count": null,
   "metadata": {},
   "outputs": [],
   "source": [
    "import Molly\n",
    "sys = rattle!(bulk(sym, cubic=true) * (2,2,2), 0.03)\n",
    "sys_md = Molly.System(sys; force_units=u\"eV/Å\", energy_units=u\"eV\")\n",
    "temp = 298.0u\"K\"\n",
    "sys_md = Molly.System(\n",
    "   sys_md;\n",
    "   general_inters = (model,),\n",
    "   velocities = Molly.random_velocities(sys_md, temp),\n",
    "   loggers=(temp = Molly.TemperatureLogger(100),\n",
    "          energy = Molly.PotentialEnergyLogger(typeof(1.0u\"eV\"), 100),), )\n",
    "simulator = Molly.VelocityVerlet(\n",
    "   dt = 1.0u\"fs\",\n",
    "   coupling = Molly.AndersenThermostat(temp, 3.0u\"fs\"), )\n",
    "\n",
    "Molly.simulate!(sys_md, simulator, 1000)\n",
    "\n",
    "# looks like a reasonably stable simulation.\n",
    "@info(\"Temperature history:\", sys_md.loggers.temp.history)\n",
    "@info(\"Energy history:\", sys_md.loggers.energy.history)"
   ]
  },
  {
   "cell_type": "markdown",
   "metadata": {},
   "source": [
    "---\n",
    "\n",
    "*This notebook was generated using [Literate.jl](https://github.com/fredrikekre/Literate.jl).*"
   ]
  }
 ],
 "metadata": {
  "kernelspec": {
   "display_name": "Julia 1.11.5",
   "language": "julia",
   "name": "julia-1.11"
  },
  "language_info": {
   "file_extension": ".jl",
   "mimetype": "application/julia",
   "name": "julia",
   "version": "1.11.5"
  }
 },
 "nbformat": 4,
 "nbformat_minor": 3
}
